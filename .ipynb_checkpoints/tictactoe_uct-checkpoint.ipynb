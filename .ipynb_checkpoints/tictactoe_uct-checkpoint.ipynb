{
 "cells": [
  {
   "cell_type": "code",
   "execution_count": 74,
   "metadata": {
    "collapsed": true
   },
   "outputs": [],
   "source": [
    "import random\n",
    "import math\n",
    "import hashlib\n",
    "import logging\n",
    "import argparse\n",
    "import numpy as np\n",
    "\n",
    "from logging import getLogger, StreamHandler, DEBUG\n",
    "from logging import Formatter\n",
    "import logging\n",
    "\n",
    "import copy\n"
   ]
  },
  {
   "cell_type": "code",
   "execution_count": 235,
   "metadata": {
    "collapsed": true
   },
   "outputs": [],
   "source": [
    "\n",
    "\n",
    "\"\"\"\n",
    "A quick Monte Carlo Tree Search implementation.  For more details on MCTS see See http://pubs.doc.ic.ac.uk/survey-mcts-methods/survey-mcts-methods.pdf\n",
    "The State is just a game where you have NUM_TURNS and at turn i you can make\n",
    "a choice from [-2,2,3,-3]*i and this to to an accumulated value.  The goal is for the accumulated value to be as close to 0 as possible.\n",
    "The game is not very interesting but it allows one to study MCTS which is.  Some features\n",
    "of the example by design are that moves do not commute and early mistakes are more costly.\n",
    "In particular there are two models of best child that one can use\n",
    "\"\"\"\n",
    "\n",
    "#MCTS scalar.  Larger scalar will increase exploitation, smaller will increase exploration.\n",
    "SCALAR=1/math.sqrt(2.0)\n",
    "\n",
    "logging.basicConfig(level=logging.WARNING)\n",
    "logger = logging.getLogger('MyLogger')\n",
    "\n",
    "class State():\n",
    "\n",
    "    NUM_TURNS = 10\n",
    "    GOAL = 0\n",
    "    MOVES=[2,-2,3,-3]\n",
    "    MAX_VALUE= (5.0*(NUM_TURNS-1)*NUM_TURNS)/2\n",
    "    num_moves=len(MOVES)\n",
    "\n",
    "    def __init__(self, value=0, moves=[], turn=NUM_TURNS):\n",
    "\n",
    "        self.value=value\n",
    "        self.turn=turn\n",
    "        self.moves=moves\n",
    "\n",
    "    def next_state(self):\n",
    "        nextmove=random.choice([x*self.turn for x  in self.MOVES])\n",
    "        next=State(self.value+nextmove, self.moves+[nextmove],self.turn-1)\n",
    "\n",
    "        return next\n",
    "\n",
    "    def terminal(self):\n",
    "        if self.turn == 0:\n",
    "            return True\n",
    "        return False\n",
    "\n",
    "    def isWin(self):\n",
    "        return False\n",
    "    \n",
    "    def reward(self):\n",
    "        r = 1.0-(abs(self.value-self.GOAL)/self.MAX_VALUE)\n",
    "        return r\n",
    "\n",
    "    def __hash__(self):\n",
    "        return int(hashlib.md5(str(self.moves).encode('utf-8')).hexdigest(),16)\n",
    "\n",
    "    def __eq__(self,other):\n",
    "        if hash(self)==hash(other):\n",
    "            return True\n",
    "        return False\n",
    "\n",
    "    def __repr__(self):\n",
    "        s=\"Value: %d; Moves: %s Turn: %d \"%(self.value,self.moves, self.turn)\n",
    "        return s"
   ]
  },
  {
   "cell_type": "code",
   "execution_count": 331,
   "metadata": {
    "collapsed": true
   },
   "outputs": [],
   "source": [
    "\n",
    "class Node():\n",
    "\n",
    "    def __init__(self, state, parent=None):\n",
    "        self.visits=1\n",
    "        self.reward=0.0\n",
    "        self.state=state\n",
    "        self.children=[]\n",
    "        self.parent=parent\n",
    "\n",
    "    def add_child(self,child_state):\n",
    "        child=Node(child_state,self)\n",
    "        self.children.append(child)\n",
    "    def update(self,reward):\n",
    "        self.reward+=reward\n",
    "        self.visits+=1\n",
    "    def fully_expanded(self):\n",
    "        if len(self.children)==self.state.num_moves:\n",
    "            return True\n",
    "        return False\n",
    "    def __repr__(self):\n",
    "        s=\"Node; children: %d; visits: %d; reward: %f state: %s; parent %s\"%(len(self.children),self.visits,self.reward, self.state, self.parent)\n",
    "        return s\n",
    "\n",
    "\n",
    "def UCTSEARCH(budget,root):\n",
    "    for iter in range(int(budget)):\n",
    "        if iter%10000==9999:\n",
    "            logger.info(\"simulation: %d\"%iter)\n",
    "            logger.info(root)\n",
    "        front=TREEPOLICY(root)\n",
    "        reward=DEFAULTPOLICY(front.state)\n",
    "        BACKUP(front,reward)\n",
    "    return BESTCHILD(root,0)\n",
    "\n",
    "def TREEPOLICY(node):\n",
    "    #a hack to force 'exploitation' in a game where there are many options, and you may never/not want to fully expand first\n",
    "    while node.state.terminal()==False:\n",
    "        if len(node.children)==0:\n",
    "            return EXPAND(node)\n",
    "        elif random.uniform(0,1)<.5:\n",
    "            print(\"pickup BEST CHILD with probability less than50%..\" )\n",
    "            node=BESTCHILD(node,SCALAR)\n",
    "        else:\n",
    "            if node.fully_expanded()==False:\n",
    "                print(\"Check fully expanded..\")\n",
    "                return EXPAND(node)\n",
    "            else:\n",
    "                print(\"pickup BEST CHILD with probability than 50%..\" )\n",
    "                node=BESTCHILD(node,SCALAR)\n",
    "    return node\n",
    "\n",
    "def EXPAND(node):\n",
    "    tried_children=[c.state for c in node.children]\n",
    "    new_state=node.state.next_state()\n",
    "    while new_state in tried_children:\n",
    "        new_state=node.state.next_state()\n",
    "    print(\"** EXPAND **\")\n",
    "    print(new_state)\n",
    "    node.add_child(new_state)\n",
    "    return node.children[-1]\n",
    "\n",
    "#current this uses the most vanilla MCTS formula it is worth experimenting with THRESHOLD ASCENT (TAGS)\n",
    "def BESTCHILD(node,scalar):\n",
    "    bestscore=-9999\n",
    "    bestchildren=[]\n",
    "    for idx, c in enumerate(node.children):\n",
    "        exploit=c.reward/c.visits\n",
    "        explore=math.sqrt(2.0*math.log(node.visits)/float(c.visits))\n",
    "        score=exploit+scalar*explore\n",
    "        logger.warning(\"%d Child score (BESTCHILD) : %.4f\" % (idx,score)  )\n",
    "        if score==bestscore:\n",
    "            bestchildren.append(c)\n",
    "        if score>bestscore:\n",
    "            bestchildren=[c]\n",
    "            bestscore=score\n",
    "    if len(bestchildren)==0:\n",
    "        logger.warning(\"OOPS: no best child found, probably fatal\")\n",
    "    return random.choice(bestchildren)\n",
    "\n",
    "def DEFAULTPOLICY(state):\n",
    "    while state.isWin()==False:\n",
    "        if state.terminal():\n",
    "            break\n",
    "        state=state.next_state()\n",
    "        print(\"DEFAULTPOLICY state..\",state)\n",
    "    return state.reward()\n",
    "\n",
    "def BACKUP(node,reward):\n",
    "    while node!=None:\n",
    "        node.visits+=1\n",
    "        node.reward+=reward\n",
    "        print(\"BACKUP - node printing..\",node)\n",
    "\n",
    "        node=node.parent\n",
    "    return\n"
   ]
  },
  {
   "cell_type": "code",
   "execution_count": 323,
   "metadata": {
    "collapsed": true
   },
   "outputs": [],
   "source": [
    "\n",
    "\n",
    "class Board(object):\n",
    "    def __init__(self):\n",
    "        self.board = np.array( [\" \"] * 10 )\n",
    "\n",
    "    def update(self,move,piece):\n",
    "        self.board[move] = piece\n",
    "\n",
    "    def isAvailable(self,move):\n",
    "        s = self.isfilled()\n",
    "        if move in s:\n",
    "            return True\n",
    "        else:\n",
    "            return False\n",
    "        \n",
    "    def copy(self):\n",
    "        return self.copy()\n",
    "\n",
    "    def isfilled(self):\n",
    "        space = np.where(self.board == \" \")[0]\n",
    "        return space[1:]\n",
    "\n",
    "    def board_turn(self):\n",
    "        space = self.isfilled()\n",
    "        #print(\"** available space. (Board Class)\", space)\n",
    "        if len(space) > 0:\n",
    "            turn = 9- len(space)\n",
    "        if len(space) == 0:\n",
    "            turn = 9\n",
    "        return turn\n",
    "\n",
    "    def __repr__(self):\n",
    "        print('   |   |')\n",
    "        print(' ' + self.board[7] + ' | ' + self.board[8] + ' | ' + self.board[9])\n",
    "        print('   |   |')\n",
    "        print('-----------')\n",
    "        print('   |   |')\n",
    "        print(' ' + self.board[4] + ' | ' + self.board[5] + ' | ' + self.board[6])\n",
    "        print('   |   |')\n",
    "        print('-----------')\n",
    "        print('   |   |')\n",
    "        print(' ' + self.board[1] + ' | ' + self.board[2] + ' | ' + self.board[3])\n",
    "        print('   |   |')\n",
    "\n",
    "        turn = self.board_turn()\n",
    "        s=\"Current Board State. (fm:Board Class): turn %d\"%(turn)\n",
    "        return s\n",
    "\n",
    "    def isWin(self,le):\n",
    "        # bo - input board style\n",
    "        # le - letter on board from player's piece\n",
    "        bo = self.board.copy()\n",
    "        return ((bo[7] == le and bo[8] == le and bo[9] == le) or # across the top\n",
    "        (bo[4] == le and bo[5] == le and bo[6] == le) or # across the middle\n",
    "        (bo[1] == le and bo[2] == le and bo[3] == le) or # across the bottom\n",
    "        (bo[7] == le and bo[4] == le and bo[1] == le) or # down the left side\n",
    "        (bo[8] == le and bo[5] == le and bo[2] == le) or # down the middle\n",
    "        (bo[9] == le and bo[6] == le and bo[3] == le) or # down the right side\n",
    "        (bo[7] == le and bo[5] == le and bo[3] == le) or # diagonal\n",
    "        (bo[9] == le and bo[5] == le and bo[1] == le)) # diagonal"
   ]
  },
  {
   "cell_type": "code",
   "execution_count": 324,
   "metadata": {},
   "outputs": [],
   "source": [
    "\n",
    "class GameState2():\n",
    "\n",
    "    NUM_TURNS = 10\n",
    "    GOAL = 0\n",
    "    PIECE=[\"O\",\"X\"]\n",
    "\n",
    "    num_moves=9\n",
    "\n",
    "    def __init__(self, moves=[], board=Board(), turn=0, next_turn=0,test=False):\n",
    "        self.board=board\n",
    "        self.turn=turn\n",
    "        self.next_turn=next_turn\n",
    "        self.moves=moves\n",
    "\n",
    "        self.log = getLogger(\"root\")\n",
    "\n",
    "        self.next_board = Board()\n",
    "\n",
    "    def first_turn(self):\n",
    "        self.first_turn = np.random.choice([0,1])\n",
    "        if self.first_turn:\n",
    "            print(\"** Human first..\")\n",
    "            self.next_turn = 0\n",
    "        else:\n",
    "            print(\"* AI first..\")\n",
    "            self.next_turn = 1\n",
    "\n",
    "    def next_state(self):\n",
    "\n",
    "        # orig board should be copied to next_board\n",
    "        # check availability next step on next_board\n",
    "        # if it has space to place, then udate next_board to have new piece\n",
    "        # \n",
    "        self.next_board.board = self.board.board.copy()\n",
    "        sp = self.next_board.isfilled()\n",
    "        move = np.random.choice(sp)\n",
    "        if self.next_turn:\n",
    "            print(\"AI turn...%d on board.\" % move)\n",
    "            self.next_board.update(move,self.PIECE[0])\n",
    "            self.next_turn = 0\n",
    "        else:\n",
    "            print(\"Human turn...%d on board.\" % move)\n",
    "            self.next_board.update(move,self.PIECE[1])\n",
    "            self.next_turn = 1\n",
    "\n",
    "        turn = self.next_board.board_turn()\n",
    "        next=GameState2(moves=self.moves+[ move ], board= self.next_board,turn= turn, next_turn = self.next_turn, test=True)\n",
    "        return next\n",
    "\n",
    "    def isWin(self):\n",
    "\n",
    "        ai_piece = self.PIECE[0]\n",
    "        hu_piece = self.PIECE[1]\n",
    "        if self.board.isWin(ai_piece):\n",
    "            print(\"AI WIN !\")\n",
    "            return True\n",
    "\n",
    "        if self.board.isWin(hu_piece):\n",
    "            print(\"Human WIN !\")\n",
    "            return True\n",
    "\n",
    "        print(\"Draw - NO WINNER !\")\n",
    "        return False\n",
    "    \n",
    "    def terminal(self):\n",
    "\n",
    "        if self.turn == 9:\n",
    "            return True\n",
    "\n",
    "        return False\n",
    "\n",
    "    def reward(self):\n",
    "        #r = 1.0-(abs(self.value-self.GOAL)/self.MAX_VALUE)\n",
    "        #return r\n",
    "        ai_piece = self.PIECE[0]\n",
    "        hu_piece = self.PIECE[1]\n",
    "\n",
    "        if self.board.isWin(ai_piece):\n",
    "            return 10\n",
    "        elif self.board.isWin(hu_piece):\n",
    "            return -10\n",
    "        return 0\n",
    "\n",
    "    def __hash__(self):\n",
    "        #return int(hashlib.md5(str(self.board.board).encode('utf-8')).hexdigest(),16)\n",
    "        return int(hashlib.md5(str(self.moves).encode('utf-8')).hexdigest(),16)\n",
    "    \n",
    "    def __eq__(self,other):\n",
    "        if hash(self)==hash(other):\n",
    "            return True\n",
    "        return False\n",
    "\n",
    "    def __repr__(self):\n",
    "        s=\"CurrentBoardState: %s; turn %d\"%(self.moves ,self.turn)\n",
    "        return s"
   ]
  },
  {
   "cell_type": "markdown",
   "metadata": {},
   "source": [
    "## Game Node ##"
   ]
  },
  {
   "cell_type": "code",
   "execution_count": 332,
   "metadata": {
    "scrolled": true
   },
   "outputs": [],
   "source": [
    "game_node = Node(GameState2( moves=[], board=Board(),turn=0, next_turn=0,test=True )   )"
   ]
  },
  {
   "cell_type": "code",
   "execution_count": 333,
   "metadata": {},
   "outputs": [
    {
     "data": {
      "text/plain": [
       "Node; children: 0; visits: 1; reward: 0.000000 state: CurrentBoardState: []; turn 0; parent None"
      ]
     },
     "execution_count": 333,
     "metadata": {},
     "output_type": "execute_result"
    }
   ],
   "source": [
    "game_node"
   ]
  },
  {
   "cell_type": "code",
   "execution_count": 334,
   "metadata": {},
   "outputs": [
    {
     "name": "stderr",
     "output_type": "stream",
     "text": [
      "WARNING:MyLogger:0 Child score (BESTCHILD) : 5.5887\n",
      "WARNING:MyLogger:0 Child score (BESTCHILD) : 0.6798\n",
      "WARNING:MyLogger:1 Child score (BESTCHILD) : 0.8326\n",
      "WARNING:MyLogger:0 Child score (BESTCHILD) : 0.7324\n",
      "WARNING:MyLogger:1 Child score (BESTCHILD) : -2.6009\n",
      "WARNING:MyLogger:0 Child score (BESTCHILD) : -4.2588\n",
      "WARNING:MyLogger:0 Child score (BESTCHILD) : -1.8307\n",
      "WARNING:MyLogger:1 Child score (BESTCHILD) : -2.5605\n",
      "WARNING:MyLogger:0 Child score (BESTCHILD) : -5.9869\n",
      "WARNING:MyLogger:0 Child score (BESTCHILD) : -3.3371\n",
      "WARNING:MyLogger:1 Child score (BESTCHILD) : -2.4775\n",
      "WARNING:MyLogger:2 Child score (BESTCHILD) : 1.0481\n",
      "WARNING:MyLogger:3 Child score (BESTCHILD) : -3.9519\n"
     ]
    },
    {
     "name": "stdout",
     "output_type": "stream",
     "text": [
      "Human turn...5 on board.\n",
      "** EXPAND **\n",
      "CurrentBoardState: [5]; turn 1\n",
      "Draw - NO WINNER !\n",
      "AI turn...3 on board.\n",
      "DEFAULTPOLICY state.. CurrentBoardState: [5, 3]; turn 2\n",
      "Draw - NO WINNER !\n",
      "Human turn...7 on board.\n",
      "DEFAULTPOLICY state.. CurrentBoardState: [5, 3, 7]; turn 3\n",
      "Draw - NO WINNER !\n",
      "AI turn...4 on board.\n",
      "DEFAULTPOLICY state.. CurrentBoardState: [5, 3, 7, 4]; turn 4\n",
      "Draw - NO WINNER !\n",
      "Human turn...2 on board.\n",
      "DEFAULTPOLICY state.. CurrentBoardState: [5, 3, 7, 4, 2]; turn 5\n",
      "Draw - NO WINNER !\n",
      "AI turn...9 on board.\n",
      "DEFAULTPOLICY state.. CurrentBoardState: [5, 3, 7, 4, 2, 9]; turn 6\n",
      "Draw - NO WINNER !\n",
      "Human turn...1 on board.\n",
      "DEFAULTPOLICY state.. CurrentBoardState: [5, 3, 7, 4, 2, 9, 1]; turn 7\n",
      "Draw - NO WINNER !\n",
      "AI turn...6 on board.\n",
      "DEFAULTPOLICY state.. CurrentBoardState: [5, 3, 7, 4, 2, 9, 1, 6]; turn 8\n",
      "AI WIN !\n",
      "++ reward ++ %d 10\n",
      "BACKUP - node printing.. Node; children: 0; visits: 2; reward: 10.000000 state: CurrentBoardState: [5]; turn 1; parent Node; children: 1; visits: 1; reward: 0.000000 state: CurrentBoardState: []; turn 0; parent None\n",
      "BACKUP - node printing.. Node; children: 1; visits: 2; reward: 10.000000 state: CurrentBoardState: []; turn 0; parent None\n",
      "pickup BEST CHILD with probability less than50%..\n",
      "Human turn...7 on board.\n",
      "** EXPAND **\n",
      "CurrentBoardState: [5, 7]; turn 2\n",
      "Draw - NO WINNER !\n",
      "AI turn...6 on board.\n",
      "DEFAULTPOLICY state.. CurrentBoardState: [5, 7, 6]; turn 3\n",
      "Draw - NO WINNER !\n",
      "Human turn...8 on board.\n",
      "DEFAULTPOLICY state.. CurrentBoardState: [5, 7, 6, 8]; turn 4\n",
      "Draw - NO WINNER !\n",
      "AI turn...1 on board.\n",
      "DEFAULTPOLICY state.. CurrentBoardState: [5, 7, 6, 8, 1]; turn 5\n",
      "Draw - NO WINNER !\n",
      "Human turn...3 on board.\n",
      "DEFAULTPOLICY state.. CurrentBoardState: [5, 7, 6, 8, 1, 3]; turn 6\n",
      "Human WIN !\n",
      "++ reward ++ %d -10\n",
      "BACKUP - node printing.. Node; children: 0; visits: 2; reward: -10.000000 state: CurrentBoardState: [5, 7]; turn 2; parent Node; children: 1; visits: 2; reward: 10.000000 state: CurrentBoardState: [5]; turn 1; parent Node; children: 1; visits: 2; reward: 10.000000 state: CurrentBoardState: []; turn 0; parent None\n",
      "BACKUP - node printing.. Node; children: 1; visits: 3; reward: 0.000000 state: CurrentBoardState: [5]; turn 1; parent Node; children: 1; visits: 2; reward: 10.000000 state: CurrentBoardState: []; turn 0; parent None\n",
      "BACKUP - node printing.. Node; children: 1; visits: 3; reward: 0.000000 state: CurrentBoardState: []; turn 0; parent None\n",
      "Check fully expanded..\n",
      "AI turn...5 on board.\n",
      "Human turn...2 on board.\n",
      "** EXPAND **\n",
      "CurrentBoardState: [2]; turn 1\n",
      "Draw - NO WINNER !\n",
      "AI turn...5 on board.\n",
      "DEFAULTPOLICY state.. CurrentBoardState: [2, 5]; turn 2\n",
      "Draw - NO WINNER !\n",
      "Human turn...1 on board.\n",
      "DEFAULTPOLICY state.. CurrentBoardState: [2, 5, 1]; turn 3\n",
      "Draw - NO WINNER !\n",
      "AI turn...3 on board.\n",
      "DEFAULTPOLICY state.. CurrentBoardState: [2, 5, 1, 3]; turn 4\n",
      "Draw - NO WINNER !\n",
      "Human turn...9 on board.\n",
      "DEFAULTPOLICY state.. CurrentBoardState: [2, 5, 1, 3, 9]; turn 5\n",
      "Draw - NO WINNER !\n",
      "AI turn...8 on board.\n",
      "DEFAULTPOLICY state.. CurrentBoardState: [2, 5, 1, 3, 9, 8]; turn 6\n",
      "Draw - NO WINNER !\n",
      "Human turn...7 on board.\n",
      "DEFAULTPOLICY state.. CurrentBoardState: [2, 5, 1, 3, 9, 8, 7]; turn 7\n",
      "Draw - NO WINNER !\n",
      "AI turn...4 on board.\n",
      "DEFAULTPOLICY state.. CurrentBoardState: [2, 5, 1, 3, 9, 8, 7, 4]; turn 8\n",
      "Draw - NO WINNER !\n",
      "Human turn...6 on board.\n",
      "DEFAULTPOLICY state.. CurrentBoardState: [2, 5, 1, 3, 9, 8, 7, 4, 6]; turn 9\n",
      "Draw - NO WINNER !\n",
      "++ reward ++ %d 0\n",
      "BACKUP - node printing.. Node; children: 0; visits: 2; reward: 0.000000 state: CurrentBoardState: [2]; turn 1; parent Node; children: 2; visits: 3; reward: 0.000000 state: CurrentBoardState: []; turn 0; parent None\n",
      "BACKUP - node printing.. Node; children: 2; visits: 4; reward: 0.000000 state: CurrentBoardState: []; turn 0; parent None\n",
      "pickup BEST CHILD with probability less than50%..\n",
      "Human turn...4 on board.\n",
      "** EXPAND **\n",
      "CurrentBoardState: [2, 4]; turn 2\n",
      "Draw - NO WINNER !\n",
      "AI turn...3 on board.\n",
      "DEFAULTPOLICY state.. CurrentBoardState: [2, 4, 3]; turn 3\n",
      "Draw - NO WINNER !\n",
      "Human turn...6 on board.\n",
      "DEFAULTPOLICY state.. CurrentBoardState: [2, 4, 3, 6]; turn 4\n",
      "Draw - NO WINNER !\n",
      "AI turn...8 on board.\n",
      "DEFAULTPOLICY state.. CurrentBoardState: [2, 4, 3, 6, 8]; turn 5\n",
      "Draw - NO WINNER !\n",
      "Human turn...7 on board.\n",
      "DEFAULTPOLICY state.. CurrentBoardState: [2, 4, 3, 6, 8, 7]; turn 6\n",
      "Draw - NO WINNER !\n",
      "AI turn...1 on board.\n",
      "DEFAULTPOLICY state.. CurrentBoardState: [2, 4, 3, 6, 8, 7, 1]; turn 7\n",
      "Draw - NO WINNER !\n",
      "Human turn...5 on board.\n",
      "DEFAULTPOLICY state.. CurrentBoardState: [2, 4, 3, 6, 8, 7, 1, 5]; turn 8\n",
      "Human WIN !\n",
      "++ reward ++ %d -10\n",
      "BACKUP - node printing.. Node; children: 0; visits: 2; reward: -10.000000 state: CurrentBoardState: [2, 4]; turn 2; parent Node; children: 1; visits: 2; reward: 0.000000 state: CurrentBoardState: [2]; turn 1; parent Node; children: 2; visits: 4; reward: 0.000000 state: CurrentBoardState: []; turn 0; parent None\n",
      "BACKUP - node printing.. Node; children: 1; visits: 3; reward: -10.000000 state: CurrentBoardState: [2]; turn 1; parent Node; children: 2; visits: 4; reward: 0.000000 state: CurrentBoardState: []; turn 0; parent None\n",
      "BACKUP - node printing.. Node; children: 2; visits: 5; reward: -10.000000 state: CurrentBoardState: []; turn 0; parent None\n",
      "pickup BEST CHILD with probability less than50%..\n",
      "pickup BEST CHILD with probability less than50%..\n",
      "Human turn...2 on board.\n",
      "** EXPAND **\n",
      "CurrentBoardState: [5, 7, 2]; turn 3\n",
      "Draw - NO WINNER !\n",
      "AI turn...1 on board.\n",
      "DEFAULTPOLICY state.. CurrentBoardState: [5, 7, 2, 1]; turn 4\n",
      "Draw - NO WINNER !\n",
      "Human turn...4 on board.\n",
      "DEFAULTPOLICY state.. CurrentBoardState: [5, 7, 2, 1, 4]; turn 5\n",
      "Draw - NO WINNER !\n",
      "AI turn...8 on board.\n",
      "DEFAULTPOLICY state.. CurrentBoardState: [5, 7, 2, 1, 4, 8]; turn 6\n",
      "Draw - NO WINNER !\n",
      "Human turn...3 on board.\n",
      "DEFAULTPOLICY state.. CurrentBoardState: [5, 7, 2, 1, 4, 8, 3]; turn 7\n",
      "Human WIN !\n",
      "++ reward ++ %d -10\n",
      "BACKUP - node printing.. Node; children: 0; visits: 2; reward: -10.000000 state: CurrentBoardState: [5, 7, 2]; turn 3; parent Node; children: 1; visits: 2; reward: -10.000000 state: CurrentBoardState: [5, 7]; turn 2; parent Node; children: 1; visits: 3; reward: 0.000000 state: CurrentBoardState: [5]; turn 1; parent Node; children: 2; visits: 5; reward: -10.000000 state: CurrentBoardState: []; turn 0; parent None\n",
      "BACKUP - node printing.. Node; children: 1; visits: 3; reward: -20.000000 state: CurrentBoardState: [5, 7]; turn 2; parent Node; children: 1; visits: 3; reward: 0.000000 state: CurrentBoardState: [5]; turn 1; parent Node; children: 2; visits: 5; reward: -10.000000 state: CurrentBoardState: []; turn 0; parent None\n",
      "BACKUP - node printing.. Node; children: 1; visits: 4; reward: -10.000000 state: CurrentBoardState: [5]; turn 1; parent Node; children: 2; visits: 5; reward: -10.000000 state: CurrentBoardState: []; turn 0; parent None\n",
      "BACKUP - node printing.. Node; children: 2; visits: 6; reward: -20.000000 state: CurrentBoardState: []; turn 0; parent None\n",
      "pickup BEST CHILD with probability less than50%..\n",
      "pickup BEST CHILD with probability less than50%..\n",
      "Check fully expanded..\n",
      "AI turn...8 on board.\n",
      "** EXPAND **\n",
      "CurrentBoardState: [5, 7, 8]; turn 3\n",
      "Draw - NO WINNER !\n",
      "Human turn...9 on board.\n",
      "DEFAULTPOLICY state.. CurrentBoardState: [5, 7, 8, 9]; turn 4\n",
      "Draw - NO WINNER !\n",
      "AI turn...2 on board.\n",
      "DEFAULTPOLICY state.. CurrentBoardState: [5, 7, 8, 9, 2]; turn 5\n",
      "Draw - NO WINNER !\n",
      "Human turn...1 on board.\n",
      "DEFAULTPOLICY state.. CurrentBoardState: [5, 7, 8, 9, 2, 1]; turn 6\n",
      "Human WIN !\n",
      "++ reward ++ %d -10\n",
      "BACKUP - node printing.. Node; children: 0; visits: 2; reward: -10.000000 state: CurrentBoardState: [5, 7, 8]; turn 3; parent Node; children: 2; visits: 3; reward: -20.000000 state: CurrentBoardState: [5, 7]; turn 2; parent Node; children: 1; visits: 4; reward: -10.000000 state: CurrentBoardState: [5]; turn 1; parent Node; children: 2; visits: 6; reward: -20.000000 state: CurrentBoardState: []; turn 0; parent None\n",
      "BACKUP - node printing.. Node; children: 2; visits: 4; reward: -30.000000 state: CurrentBoardState: [5, 7]; turn 2; parent Node; children: 1; visits: 4; reward: -10.000000 state: CurrentBoardState: [5]; turn 1; parent Node; children: 2; visits: 6; reward: -20.000000 state: CurrentBoardState: []; turn 0; parent None\n",
      "BACKUP - node printing.. Node; children: 1; visits: 5; reward: -20.000000 state: CurrentBoardState: [5]; turn 1; parent Node; children: 2; visits: 6; reward: -20.000000 state: CurrentBoardState: []; turn 0; parent None\n",
      "BACKUP - node printing.. Node; children: 2; visits: 7; reward: -30.000000 state: CurrentBoardState: []; turn 0; parent None\n",
      "Check fully expanded..\n",
      "AI turn...8 on board.\n",
      "** EXPAND **\n",
      "CurrentBoardState: [8]; turn 1\n",
      "Draw - NO WINNER !\n",
      "Human turn...9 on board.\n",
      "DEFAULTPOLICY state.. CurrentBoardState: [8, 9]; turn 2\n",
      "Draw - NO WINNER !\n",
      "AI turn...1 on board.\n",
      "DEFAULTPOLICY state.. CurrentBoardState: [8, 9, 1]; turn 3\n",
      "Draw - NO WINNER !\n",
      "Human turn...5 on board.\n",
      "DEFAULTPOLICY state.. CurrentBoardState: [8, 9, 1, 5]; turn 4\n",
      "Draw - NO WINNER !\n",
      "AI turn...4 on board.\n",
      "DEFAULTPOLICY state.. CurrentBoardState: [8, 9, 1, 5, 4]; turn 5\n",
      "Draw - NO WINNER !\n",
      "Human turn...7 on board.\n",
      "DEFAULTPOLICY state.. CurrentBoardState: [8, 9, 1, 5, 4, 7]; turn 6\n",
      "Draw - NO WINNER !\n",
      "AI turn...6 on board.\n",
      "DEFAULTPOLICY state.. CurrentBoardState: [8, 9, 1, 5, 4, 7, 6]; turn 7\n",
      "Draw - NO WINNER !\n",
      "Human turn...2 on board.\n",
      "DEFAULTPOLICY state.. CurrentBoardState: [8, 9, 1, 5, 4, 7, 6, 2]; turn 8\n",
      "Draw - NO WINNER !\n",
      "AI turn...3 on board.\n",
      "DEFAULTPOLICY state.. CurrentBoardState: [8, 9, 1, 5, 4, 7, 6, 2, 3]; turn 9\n",
      "Draw - NO WINNER !\n",
      "++ reward ++ %d 0\n",
      "BACKUP - node printing.. Node; children: 0; visits: 2; reward: 0.000000 state: CurrentBoardState: [8]; turn 1; parent Node; children: 3; visits: 7; reward: -30.000000 state: CurrentBoardState: []; turn 0; parent None\n",
      "BACKUP - node printing.. Node; children: 3; visits: 8; reward: -30.000000 state: CurrentBoardState: []; turn 0; parent None\n",
      "Check fully expanded..\n",
      "Human turn...8 on board.\n",
      "AI turn...9 on board.\n",
      "** EXPAND **\n",
      "CurrentBoardState: [9]; turn 1\n",
      "Draw - NO WINNER !\n",
      "Human turn...7 on board.\n",
      "DEFAULTPOLICY state.. CurrentBoardState: [9, 7]; turn 2\n",
      "Draw - NO WINNER !\n",
      "AI turn...5 on board.\n",
      "DEFAULTPOLICY state.. CurrentBoardState: [9, 7, 5]; turn 3\n",
      "Draw - NO WINNER !\n",
      "Human turn...6 on board.\n",
      "DEFAULTPOLICY state.. CurrentBoardState: [9, 7, 5, 6]; turn 4\n",
      "Draw - NO WINNER !\n",
      "AI turn...3 on board.\n",
      "DEFAULTPOLICY state.. CurrentBoardState: [9, 7, 5, 6, 3]; turn 5\n",
      "Draw - NO WINNER !\n",
      "Human turn...1 on board.\n",
      "DEFAULTPOLICY state.. CurrentBoardState: [9, 7, 5, 6, 3, 1]; turn 6\n",
      "Draw - NO WINNER !\n",
      "AI turn...2 on board.\n",
      "DEFAULTPOLICY state.. CurrentBoardState: [9, 7, 5, 6, 3, 1, 2]; turn 7\n",
      "Draw - NO WINNER !\n",
      "Human turn...4 on board.\n",
      "DEFAULTPOLICY state.. CurrentBoardState: [9, 7, 5, 6, 3, 1, 2, 4]; turn 8\n",
      "Human WIN !\n",
      "++ reward ++ %d -10\n",
      "BACKUP - node printing.. Node; children: 0; visits: 2; reward: -10.000000 state: CurrentBoardState: [9]; turn 1; parent Node; children: 4; visits: 8; reward: -30.000000 state: CurrentBoardState: []; turn 0; parent None\n",
      "BACKUP - node printing.. Node; children: 4; visits: 9; reward: -40.000000 state: CurrentBoardState: []; turn 0; parent None\n",
      "pickup BEST CHILD with probability less than50%..\n",
      "AI turn...2 on board.\n",
      "** EXPAND **\n",
      "CurrentBoardState: [8, 2]; turn 2\n",
      "Draw - NO WINNER !\n",
      "Human turn...7 on board.\n",
      "DEFAULTPOLICY state.. CurrentBoardState: [8, 2, 7]; turn 3\n",
      "Draw - NO WINNER !\n",
      "AI turn...5 on board.\n",
      "DEFAULTPOLICY state.. CurrentBoardState: [8, 2, 7, 5]; turn 4\n",
      "Draw - NO WINNER !\n",
      "Human turn...3 on board.\n",
      "DEFAULTPOLICY state.. CurrentBoardState: [8, 2, 7, 5, 3]; turn 5\n",
      "Draw - NO WINNER !\n",
      "AI turn...1 on board.\n",
      "DEFAULTPOLICY state.. CurrentBoardState: [8, 2, 7, 5, 3, 1]; turn 6\n",
      "AI WIN !\n",
      "++ reward ++ %d 10\n",
      "BACKUP - node printing.. Node; children: 0; visits: 2; reward: 10.000000 state: CurrentBoardState: [8, 2]; turn 2; parent Node; children: 1; visits: 2; reward: 0.000000 state: CurrentBoardState: [8]; turn 1; parent Node; children: 4; visits: 9; reward: -40.000000 state: CurrentBoardState: []; turn 0; parent None\n",
      "BACKUP - node printing.. Node; children: 1; visits: 3; reward: 10.000000 state: CurrentBoardState: [8]; turn 1; parent Node; children: 4; visits: 9; reward: -40.000000 state: CurrentBoardState: []; turn 0; parent None\n",
      "BACKUP - node printing.. Node; children: 4; visits: 10; reward: -30.000000 state: CurrentBoardState: []; turn 0; parent None\n",
      "Check fully expanded..\n",
      "Human turn...9 on board.\n",
      "AI turn...6 on board.\n",
      "** EXPAND **\n",
      "CurrentBoardState: [6]; turn 1\n",
      "Draw - NO WINNER !\n",
      "Human turn...3 on board.\n",
      "DEFAULTPOLICY state.. CurrentBoardState: [6, 3]; turn 2\n",
      "Draw - NO WINNER !\n",
      "AI turn...2 on board.\n",
      "DEFAULTPOLICY state.. CurrentBoardState: [6, 3, 2]; turn 3\n",
      "Draw - NO WINNER !\n",
      "Human turn...5 on board.\n",
      "DEFAULTPOLICY state.. CurrentBoardState: [6, 3, 2, 5]; turn 4\n",
      "Draw - NO WINNER !\n",
      "AI turn...8 on board.\n",
      "DEFAULTPOLICY state.. CurrentBoardState: [6, 3, 2, 5, 8]; turn 5\n",
      "Draw - NO WINNER !\n",
      "Human turn...1 on board.\n",
      "DEFAULTPOLICY state.. CurrentBoardState: [6, 3, 2, 5, 8, 1]; turn 6\n",
      "Draw - NO WINNER !\n",
      "AI turn...9 on board.\n",
      "DEFAULTPOLICY state.. CurrentBoardState: [6, 3, 2, 5, 8, 1, 9]; turn 7\n",
      "Draw - NO WINNER !\n",
      "Human turn...7 on board.\n",
      "DEFAULTPOLICY state.. CurrentBoardState: [6, 3, 2, 5, 8, 1, 9, 7]; turn 8\n",
      "Human WIN !\n",
      "++ reward ++ %d -10\n",
      "BACKUP - node printing.. Node; children: 0; visits: 2; reward: -10.000000 state: CurrentBoardState: [6]; turn 1; parent Node; children: 5; visits: 10; reward: -30.000000 state: CurrentBoardState: []; turn 0; parent None\n",
      "BACKUP - node printing.. Node; children: 5; visits: 11; reward: -40.000000 state: CurrentBoardState: []; turn 0; parent None\n"
     ]
    }
   ],
   "source": [
    "\n",
    "\n",
    "for iter in range(10):\n",
    "    front=TREEPOLICY(game_node)\n",
    "    reward=DEFAULTPOLICY(front.state)\n",
    "    print(\"++ reward ++ %d\", reward)\n",
    "    BACKUP(front,reward)\n",
    "\n"
   ]
  },
  {
   "cell_type": "code",
   "execution_count": 335,
   "metadata": {},
   "outputs": [
    {
     "name": "stderr",
     "output_type": "stream",
     "text": [
      "WARNING:MyLogger:0 Child score (BESTCHILD) : -3.3075\n",
      "WARNING:MyLogger:1 Child score (BESTCHILD) : -2.4393\n",
      "WARNING:MyLogger:2 Child score (BESTCHILD) : 4.2274\n",
      "WARNING:MyLogger:3 Child score (BESTCHILD) : -3.9050\n",
      "WARNING:MyLogger:4 Child score (BESTCHILD) : -3.9050\n"
     ]
    }
   ],
   "source": [
    "best_node = BESTCHILD(game_node,SCALAR)"
   ]
  },
  {
   "cell_type": "code",
   "execution_count": 336,
   "metadata": {},
   "outputs": [
    {
     "data": {
      "text/plain": [
       "Node; children: 1; visits: 3; reward: 10.000000 state: CurrentBoardState: [8]; turn 1; parent Node; children: 5; visits: 11; reward: -40.000000 state: CurrentBoardState: []; turn 0; parent None"
      ]
     },
     "execution_count": 336,
     "metadata": {},
     "output_type": "execute_result"
    }
   ],
   "source": [
    "best_node"
   ]
  },
  {
   "cell_type": "code",
   "execution_count": 291,
   "metadata": {},
   "outputs": [
    {
     "name": "stdout",
     "output_type": "stream",
     "text": [
      "** available space. (Board Class) [2 3 4 5 6 7 8 9]\n",
      "** EXPAND **\n",
      "CurrentBoardState: [1]; turn 1\n"
     ]
    }
   ],
   "source": [
    "exp_node = EXPAND(game_node)"
   ]
  },
  {
   "cell_type": "code",
   "execution_count": 292,
   "metadata": {},
   "outputs": [
    {
     "data": {
      "text/plain": [
       "Node; children: 0; visits: 1; reward: 0.000000 state: CurrentBoardState: [1]; turn 1; parent Node; children: 2; visits: 2; reward: 0.000000 state: CurrentBoardState: []; turn 0; parent None"
      ]
     },
     "execution_count": 292,
     "metadata": {},
     "output_type": "execute_result"
    }
   ],
   "source": [
    "exp_node"
   ]
  },
  {
   "cell_type": "code",
   "execution_count": null,
   "metadata": {
    "collapsed": true
   },
   "outputs": [],
   "source": [
    "    tried_children=[c.state for c in node.children]\n",
    "    new_state=node.state.next_state()\n",
    "    while new_state in tried_children:\n",
    "        new_state=node.state.next_state()\n",
    "    print(\"** EXPAND **\")\n",
    "    print(new_state)\n",
    "    node.add_child(new_state)\n"
   ]
  },
  {
   "cell_type": "code",
   "execution_count": null,
   "metadata": {
    "collapsed": true
   },
   "outputs": [],
   "source": []
  },
  {
   "cell_type": "code",
   "execution_count": 219,
   "metadata": {},
   "outputs": [
    {
     "data": {
      "text/plain": [
       "CurrentBoardState: [' ' ' ' ' ' 'O' ' ' ' ' ' ' ' ' ' ' ' ']; turn 1"
      ]
     },
     "execution_count": 219,
     "metadata": {},
     "output_type": "execute_result"
    }
   ],
   "source": [
    "new_state"
   ]
  },
  {
   "cell_type": "code",
   "execution_count": 220,
   "metadata": {},
   "outputs": [
    {
     "name": "stdout",
     "output_type": "stream",
     "text": [
      "** available space. (Board Class) [1 2 4 5 6 7 8 9]\n"
     ]
    }
   ],
   "source": [
    "new_state=game_node.state.next_state()\n"
   ]
  },
  {
   "cell_type": "code",
   "execution_count": null,
   "metadata": {
    "collapsed": true
   },
   "outputs": [],
   "source": []
  },
  {
   "cell_type": "code",
   "execution_count": null,
   "metadata": {
    "collapsed": true
   },
   "outputs": [],
   "source": []
  },
  {
   "cell_type": "markdown",
   "metadata": {},
   "source": [
    "## Normal TEST ##"
   ]
  },
  {
   "cell_type": "code",
   "execution_count": 237,
   "metadata": {},
   "outputs": [
    {
     "name": "stdout",
     "output_type": "stream",
     "text": [
      "Node; children: 0; visits: 1; reward: 0.000000 state: Value: 0; Moves: [] Turn: 10 ; parent None\n"
     ]
    }
   ],
   "source": [
    "current_node=Node(State())\n",
    "print(current_node)"
   ]
  },
  {
   "cell_type": "code",
   "execution_count": 238,
   "metadata": {},
   "outputs": [
    {
     "data": {
      "text/plain": [
       "Value: 0; Moves: [] Turn: 10 "
      ]
     },
     "execution_count": 238,
     "metadata": {},
     "output_type": "execute_result"
    }
   ],
   "source": [
    "current_node.state"
   ]
  },
  {
   "cell_type": "code",
   "execution_count": 239,
   "metadata": {},
   "outputs": [
    {
     "name": "stdout",
     "output_type": "stream",
     "text": [
      "** EXPAND **\n",
      "Value: -30; Moves: [-30] Turn: 9 \n",
      "DEFAULTPOLICY state.. Value: -57; Moves: [-30, -27] Turn: 8 \n",
      "DEFAULTPOLICY state.. Value: -41; Moves: [-30, -27, 16] Turn: 7 \n",
      "DEFAULTPOLICY state.. Value: -55; Moves: [-30, -27, 16, -14] Turn: 6 \n",
      "DEFAULTPOLICY state.. Value: -73; Moves: [-30, -27, 16, -14, -18] Turn: 5 \n",
      "DEFAULTPOLICY state.. Value: -63; Moves: [-30, -27, 16, -14, -18, 10] Turn: 4 \n",
      "DEFAULTPOLICY state.. Value: -55; Moves: [-30, -27, 16, -14, -18, 10, 8] Turn: 3 \n",
      "DEFAULTPOLICY state.. Value: -46; Moves: [-30, -27, 16, -14, -18, 10, 8, 9] Turn: 2 \n",
      "DEFAULTPOLICY state.. Value: -50; Moves: [-30, -27, 16, -14, -18, 10, 8, 9, -4] Turn: 1 \n",
      "DEFAULTPOLICY state.. Value: -53; Moves: [-30, -27, 16, -14, -18, 10, 8, 9, -4, -3] Turn: 0 \n",
      "BACKUP - node printing.. Node; children: 1; visits: 1; reward: 0.000000 state: Value: 0; Moves: [] Turn: 10 ; parent None\n",
      "BACKUP - node printing.. None\n"
     ]
    }
   ],
   "source": [
    "\n",
    "front=TREEPOLICY(current_node)\n",
    "reward=DEFAULTPOLICY(front.state)\n",
    "BACKUP(front,reward)\n"
   ]
  },
  {
   "cell_type": "code",
   "execution_count": 240,
   "metadata": {},
   "outputs": [
    {
     "data": {
      "text/plain": [
       "Node; children: 0; visits: 2; reward: 0.764444 state: Value: -30; Moves: [-30] Turn: 9 ; parent Node; children: 1; visits: 2; reward: 0.764444 state: Value: 0; Moves: [] Turn: 10 ; parent None"
      ]
     },
     "execution_count": 240,
     "metadata": {},
     "output_type": "execute_result"
    }
   ],
   "source": [
    "front"
   ]
  },
  {
   "cell_type": "code",
   "execution_count": 224,
   "metadata": {},
   "outputs": [
    {
     "data": {
      "text/plain": [
       "Node; children: 1; visits: 2; reward: 0.866667 state: Value: 0; Moves: []; parent None"
      ]
     },
     "execution_count": 224,
     "metadata": {},
     "output_type": "execute_result"
    }
   ],
   "source": [
    "current_node"
   ]
  },
  {
   "cell_type": "code",
   "execution_count": 225,
   "metadata": {},
   "outputs": [
    {
     "data": {
      "text/plain": [
       "False"
      ]
     },
     "execution_count": 225,
     "metadata": {},
     "output_type": "execute_result"
    }
   ],
   "source": [
    "current_node.fully_expanded()"
   ]
  },
  {
   "cell_type": "code",
   "execution_count": 259,
   "metadata": {},
   "outputs": [
    {
     "name": "stderr",
     "output_type": "stream",
     "text": [
      "WARNING:MyLogger:0 Child score (BESTCHILD) : 0.9709\n"
     ]
    }
   ],
   "source": [
    "best_node = BESTCHILD(current_node,SCALAR)"
   ]
  },
  {
   "cell_type": "code",
   "execution_count": 260,
   "metadata": {},
   "outputs": [
    {
     "name": "stdout",
     "output_type": "stream",
     "text": [
      "** EXPAND **\n",
      "Value: -57; Moves: [-30, -27] Turn: 8 \n"
     ]
    },
    {
     "data": {
      "text/plain": [
       "Node; children: 0; visits: 1; reward: 0.000000 state: Value: -57; Moves: [-30, -27] Turn: 8 ; parent Node; children: 1; visits: 2; reward: 0.764444 state: Value: -30; Moves: [-30] Turn: 9 ; parent Node; children: 1; visits: 2; reward: 0.764444 state: Value: 0; Moves: [] Turn: 10 ; parent None"
      ]
     },
     "execution_count": 260,
     "metadata": {},
     "output_type": "execute_result"
    }
   ],
   "source": [
    "EXPAND(best_node)"
   ]
  },
  {
   "cell_type": "code",
   "execution_count": null,
   "metadata": {
    "collapsed": true
   },
   "outputs": [],
   "source": []
  }
 ],
 "metadata": {
  "kernelspec": {
   "display_name": "tensorflow3 (python3)",
   "language": "python",
   "name": "tensorflow3"
  },
  "language_info": {
   "codemirror_mode": {
    "name": "ipython",
    "version": 3
   },
   "file_extension": ".py",
   "mimetype": "text/x-python",
   "name": "python",
   "nbconvert_exporter": "python",
   "pygments_lexer": "ipython3",
   "version": "3.6.3"
  }
 },
 "nbformat": 4,
 "nbformat_minor": 2
}
